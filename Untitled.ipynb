{
 "cells": [
  {
   "cell_type": "code",
   "execution_count": 151,
   "metadata": {},
   "outputs": [
    {
     "name": "stdout",
     "output_type": "stream",
     "text": [
      "               r           g           b         h         s           v\n",
      "0     252.979167  130.082702  145.131944  0.979591  0.485797  252.979167\n",
      "1     240.430212   64.486093   73.623373  0.991345  0.731789  240.430212\n",
      "2     234.212292   93.767973  111.127150  0.979400  0.599645  234.212292\n",
      "3     235.551597   51.218487   60.254118  0.991830  0.782559  235.551597\n",
      "4     247.631105  114.668758  130.705048  0.979899  0.536937  247.631105\n",
      "...          ...         ...         ...       ...       ...         ...\n",
      "3435  166.945454   94.113636  101.345455  0.983451  0.436261  166.945454\n",
      "3436  118.896970   39.797980   42.105051  0.995139  0.665273  118.896970\n",
      "3437  138.934195   65.666275   75.027027  0.978707  0.527357  138.934195\n",
      "3438  148.819535   67.108993   78.064920  0.977653  0.549058  148.819535\n",
      "3439  136.889440   61.822653   70.727437  0.980229  0.548375  136.889440\n",
      "\n",
      "[3440 rows x 6 columns]\n"
     ]
    }
   ],
   "source": [
    "import csv\n",
    "import numpy as np\n",
    "import matplotlib as mpl\n",
    "import matplotlib.pyplot as plt\n",
    "import pandas as pd\n",
    "from sklearn.model_selection import train_test_split\n",
    "from sklearn.ensemble import BaggingClassifier\n",
    "from sklearn.metrics import accuracy_score\n",
    "\n",
    "lip_data=pd.read_csv(\"total_data.csv\")\n",
    "\n",
    "x = lip_data.drop(columns=['name'],axis=1)\n",
    "y = lip_data['name']\n",
    "\n",
    "print(x)"
   ]
  },
  {
   "cell_type": "code",
   "execution_count": 152,
   "metadata": {},
   "outputs": [],
   "source": [
    "from sklearn.preprocessing import LabelEncoder\n",
    "\n",
    "Encoder_y = LabelEncoder()\n",
    "y = Encoder_y.fit_transform(y)"
   ]
  },
  {
   "cell_type": "code",
   "execution_count": 153,
   "metadata": {},
   "outputs": [],
   "source": [
    "# Splitting the dataset\n",
    "\n",
    "from sklearn.model_selection import train_test_split\n",
    "# 매번 실행시킬때마다 random 해지지 않도록 random_state 고정\n",
    "x_train, x, y_train, y = train_test_split(x, y, train_size = 0.75)\n",
    "\n",
    "# 10% test data, 10 % validation data\n",
    "x_test, x_validation, y_test, y_validation = train_test_split(x, y, test_size=0.25)\n",
    "\n"
   ]
  },
  {
   "cell_type": "code",
   "execution_count": 155,
   "metadata": {},
   "outputs": [
    {
     "name": "stdout",
     "output_type": "stream",
     "text": [
      "train_accuracy\n",
      "100.0\n",
      "\n",
      "test_accuracy\n",
      "57.674418604651166\n",
      "\n",
      "validation\n",
      "56.27906976744186\n"
     ]
    }
   ],
   "source": [
    "\n",
    "lip_bagging=BaggingClassifier(n_estimators=10000,bootstrap=True,max_features=6,max_samples=0.5)\n",
    "#lip_bagging=BaggingClassifier(n_estimators=1000,bootstrap=True,max_features=6,n_jobs=-1,max_samples=0.5)\n",
    "\n",
    "lip_bagging.fit(x_train,y_train)\n",
    "lip_bagging.predict(x_test)\n",
    "\n",
    "train_accuracy=lip_bagging.score(x_train,y_train)\n",
    "test_accuracy=lip_bagging.score(x_test,y_test)\n",
    "valid=lip_bagging.score(x_validation,y_validation)\n",
    "\n",
    "print(\"train_accuracy\")\n",
    "print(train_accuracy*100)\n",
    "\n",
    "print(\"\\n\"+\"test_accuracy\")\n",
    "print(test_accuracy*100)\n",
    "\n",
    "print(\"\\n\"+\"validation\")\n",
    "print(valid*100)\n"
   ]
  }
 ],
 "metadata": {
  "kernelspec": {
   "display_name": "Python 3",
   "language": "python",
   "name": "python3"
  },
  "language_info": {
   "codemirror_mode": {
    "name": "ipython",
    "version": 3
   },
   "file_extension": ".py",
   "mimetype": "text/x-python",
   "name": "python",
   "nbconvert_exporter": "python",
   "pygments_lexer": "ipython3",
   "version": "3.7.6"
  }
 },
 "nbformat": 4,
 "nbformat_minor": 4
}
