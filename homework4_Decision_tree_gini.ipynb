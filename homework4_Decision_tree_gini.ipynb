{
 "cells": [
  {
   "cell_type": "code",
   "execution_count": 1,
   "metadata": {},
   "outputs": [],
   "source": [
    "import numpy as np\n",
    "import matplotlib as mpl\n",
    "import matplotlib.pyplot as plt\n",
    "import pandas as pd\n",
    "from sklearn.tree import DecisionTreeClassifier\n",
    "from sklearn.model_selection import train_test_split\n",
    "from matplotlib.colors import ListedColormap, colorConverter, LinearSegmentedColormap\n",
    "from sklearn.model_selection import LeaveOneOut\n",
    "import matplotlib\n",
    "from sklearn.model_selection import KFold\n",
    "from sklearn.linear_model import LogisticRegression\n",
    "from sklearn.model_selection import cross_val_score\n"
   ]
  },
  {
   "cell_type": "markdown",
   "metadata": {},
   "source": [
    "## Wine data"
   ]
  },
  {
   "cell_type": "code",
   "execution_count": 2,
   "metadata": {
    "scrolled": true
   },
   "outputs": [
    {
     "name": "stdout",
     "output_type": "stream",
     "text": [
      ".. _wine_dataset:\n",
      "\n",
      "Wine recognition dataset\n",
      "------------------------\n",
      "\n",
      "**Data Set Characteristics:**\n",
      "\n",
      "    :Number of Instances: 178 (50 in each of three classes)\n",
      "    :Number of Attributes: 13 numeric, predictive attributes and the class\n",
      "    :Attribute Information:\n",
      " \t\t- Alcohol\n",
      " \t\t- Malic acid\n",
      " \t\t- Ash\n",
      "\t\t- Alcalinity of ash  \n",
      " \t\t- Magnesium\n",
      "\t\t- Total phenols\n",
      " \t\t- Flavanoids\n",
      " \t\t- Nonflavanoid phenols\n",
      " \t\t- Proanthocyanins\n",
      "\t\t- Color intensity\n",
      " \t\t- Hue\n",
      " \t\t- OD280/OD315 of diluted wines\n",
      " \t\t- Proline\n",
      "\n",
      "    - class:\n",
      "            - class_0\n",
      "            - class_1\n",
      "            - class_2\n",
      "\t\t\n",
      "    :Summary Statistics:\n",
      "    \n",
      "    ============================= ==== ===== ======= =====\n",
      "                                   Min   Max   Mean     SD\n",
      "    ============================= ==== ===== ======= =====\n",
      "    Alcohol:                      11.0  14.8    13.0   0.8\n",
      "    Malic Acid:                   0.74  5.80    2.34  1.12\n",
      "    Ash:                          1.36  3.23    2.36  0.27\n",
      "    Alcalinity of Ash:            10.6  30.0    19.5   3.3\n",
      "    Magnesium:                    70.0 162.0    99.7  14.3\n",
      "    Total Phenols:                0.98  3.88    2.29  0.63\n",
      "    Flavanoids:                   0.34  5.08    2.03  1.00\n",
      "    Nonflavanoid Phenols:         0.13  0.66    0.36  0.12\n",
      "    Proanthocyanins:              0.41  3.58    1.59  0.57\n",
      "    Colour Intensity:              1.3  13.0     5.1   2.3\n",
      "    Hue:                          0.48  1.71    0.96  0.23\n",
      "    OD280/OD315 of diluted wines: 1.27  4.00    2.61  0.71\n",
      "    Proline:                       278  1680     746   315\n",
      "    ============================= ==== ===== ======= =====\n",
      "\n",
      "    :Missing Attribute Values: None\n",
      "    :Class Distribution: class_0 (59), class_1 (71), class_2 (48)\n",
      "    :Creator: R.A. Fisher\n",
      "    :Donor: Michael Marshall (MARSHALL%PLU@io.arc.nasa.gov)\n",
      "    :Date: July, 1988\n",
      "\n",
      "This is a copy of UCI ML Wine recognition datasets.\n",
      "https://archive.ics.uci.edu/ml/machine-learning-databases/wine/wine.data\n",
      "\n",
      "The data is the results of a chemical analysis of wines grown in the same\n",
      "region in Italy by three different cultivators. There are thirteen different\n",
      "measurements taken for different constituents found in the three types of\n",
      "wine.\n",
      "\n",
      "Original Owners: \n",
      "\n",
      "Forina, M. et al, PARVUS - \n",
      "An Extendible Package for Data Exploration, Classification and Correlation. \n",
      "Institute of Pharmaceutical and Food Analysis and Technologies,\n",
      "Via Brigata Salerno, 16147 Genoa, Italy.\n",
      "\n",
      "Citation:\n",
      "\n",
      "Lichman, M. (2013). UCI Machine Learning Repository\n",
      "[https://archive.ics.uci.edu/ml]. Irvine, CA: University of California,\n",
      "School of Information and Computer Science. \n",
      "\n",
      ".. topic:: References\n",
      "\n",
      "  (1) S. Aeberhard, D. Coomans and O. de Vel, \n",
      "  Comparison of Classifiers in High Dimensional Settings, \n",
      "  Tech. Rep. no. 92-02, (1992), Dept. of Computer Science and Dept. of  \n",
      "  Mathematics and Statistics, James Cook University of North Queensland. \n",
      "  (Also submitted to Technometrics). \n",
      "\n",
      "  The data was used with many others for comparing various \n",
      "  classifiers. The classes are separable, though only RDA \n",
      "  has achieved 100% correct classification. \n",
      "  (RDA : 100%, QDA 99.4%, LDA 98.9%, 1NN 96.1% (z-transformed data)) \n",
      "  (All results using the leave-one-out technique) \n",
      "\n",
      "  (2) S. Aeberhard, D. Coomans and O. de Vel, \n",
      "  \"THE CLASSIFICATION PERFORMANCE OF RDA\" \n",
      "  Tech. Rep. no. 92-01, (1992), Dept. of Computer Science and Dept. of \n",
      "  Mathematics and Statistics, James Cook University of North Queensland. \n",
      "  (Also submitted to Journal of Chemometrics).\n",
      "\n"
     ]
    }
   ],
   "source": [
    "from sklearn.datasets import load_wine\n",
    "wine = load_wine()\n",
    "print(wine.DESCR)"
   ]
  },
  {
   "cell_type": "code",
   "execution_count": 3,
   "metadata": {},
   "outputs": [],
   "source": [
    "x_train, x_test, y_train, y_test = train_test_split(wine.data, wine.target, test_size = 0.1)"
   ]
  },
  {
   "cell_type": "code",
   "execution_count": 7,
   "metadata": {},
   "outputs": [
    {
     "name": "stdout",
     "output_type": "stream",
     "text": [
      "max_depth = 1 --> train_accuracy: 0.5625\n",
      "max_depth = 1 --> valid_accuracy: 0.8125\n",
      "max_depth = 1 --> test_accuracy: 0.5\n",
      "max_depth = 3 --> train_accuracy: 0.75\n",
      "max_depth = 3 --> valid_accuracy : 1.0\n",
      "max_depth = 3 --> test_accuracy: 0.8333333333333334\n"
     ]
    },
    {
     "data": {
      "image/png": "[encoded data removed]",
      "text/plain": [
       "<Figure size 432x288 with 1 Axes>"
      ]
     },
     "metadata": {
      "needs_background": "light"
     },
     "output_type": "display_data"
    }
   ],
   "source": [
    "x_train1,x_valid,y_train1,y_valid=train_test_split(x_train,y_train,test_size=0.1)\n",
    "\n",
    "x=[1,3]\n",
    "\n",
    "# max_depth =1 \n",
    "wine_tree=DecisionTreeClassifier(criterion='gini',max_depth=1,random_state=100)\n",
    "wine_tree.fit(x_train1,y_train1)\n",
    "wine_tree.fit(x_valid,y_valid)\n",
    "wine_tree.predict(x_test)\n",
    "\n",
    "train_accuracy=wine_tree.score(x_train1,y_train1)\n",
    "valid_accuracy=wine_tree.score(x_valid,y_valid)\n",
    "test_accuracy=wine_tree.score(x_test,y_test)\n",
    "\n",
    "plt.bar(x[0]-0.3,train_accuracy,width=0.2,color='#dd0000')\n",
    "plt.bar(x[0],valid_accuracy,width=0.2,color='#ce6cd4')\n",
    "plt.bar(x[0]+0.3,test_accuracy,width=0.2,color='#ddff00')\n",
    "\n",
    "print(\"max_depth = 1 --> train_accuracy:\",train_accuracy)\n",
    "print(\"max_depth = 1 --> valid_accuracy:\",valid_accuracy)\n",
    "print(\"max_depth = 1 --> test_accuracy:\",test_accuracy)\n",
    "\n",
    "# max_depth =3\n",
    "\n",
    "wine_tree=DecisionTreeClassifier(criterion='gini',max_depth=3,random_state=100)\n",
    "wine_tree.fit(x_train1,y_train1)\n",
    "wine_tree.fit(x_valid,y_valid)\n",
    "wine_tree.predict(x_test)\n",
    "\n",
    "train_accuracy=wine_tree.score(x_train1,y_train1)\n",
    "valid_accuracy=wine_tree.score(x_valid,y_valid)\n",
    "test_accuracy=wine_tree.score(x_test,y_test)\n",
    "\n",
    "plt.bar(x[1]-0.3,train_accuracy,width=0.2,color='#dd0000')\n",
    "plt.bar(x[1],valid_accuracy,width=0.2,color='#ce6cd4')\n",
    "plt.bar(x[1]+0.3,test_accuracy,width=0.2,color='#ddff00')\n",
    "\n",
    "print(\"max_depth = 3 --> train_accuracy:\",train_accuracy)\n",
    "print(\"max_depth = 3 --> valid_accuracy :\",valid_accuracy)\n",
    "print(\"max_depth = 3 --> test_accuracy:\",test_accuracy)\n",
    "\n",
    "plt.title('Decision Tree - gini')\n",
    "plt.legend(['train_accuracy','valid,accuracy','test_accuracy'],loc='lower center')\n",
    "\n",
    "plt.xlabel('max_depth',fontsize=18)\n",
    "plt.ylabel('Accuracy',fontsize=18)\n",
    "plt.show()\n"
   ]
  },
  {
   "cell_type": "code",
   "execution_count": 9,
   "metadata": {},
   "outputs": [
    {
     "name": "stdout",
     "output_type": "stream",
     "text": [
      "max_depth =1 --> test_accuracy: 0.6666666666666666\n",
      "max_depth =1 --> kfold.mean :  0.61875\n",
      "max_depth =1 --> loo.mean :  0.60625\n",
      "max_depth =3 --> test_accuracy: 0.9444444444444444\n",
      "max_depth =3 --> kfold.mean :  0.9125\n",
      "max_depth =3 --> loo.mean :  0.93125\n"
     ]
    },
    {
     "data": {
      "image/png": "[encoded data removed]",
      "text/plain": [
       "<Figure size 432x288 with 1 Axes>"
      ]
     },
     "metadata": {
      "needs_background": "light"
     },
     "output_type": "display_data"
    }
   ],
   "source": [
    "\n",
    "x=[1,3]\n",
    "# max_depth =1 \n",
    "wine_tree=DecisionTreeClassifier(criterion='gini',max_depth=1,random_state=100)\n",
    "wine_tree.fit(x_train,y_train)\n",
    "wine_tree.predict(x_test)\n",
    "\n",
    "test_accuracy=wine_tree.score(x_test,y_test)\n",
    "score_kfold=cross_val_score(wine_tree,x_train,y_train,cv=10)\n",
    "loo=LeaveOneOut()\n",
    "score_loo=cross_val_score(wine_tree,x_train,y_train,cv=loo)\n",
    "\n",
    "plt.bar(x[0]-0.3,test_accuracy,width=0.2,color='#dd0000')\n",
    "plt.bar(x[0],score_kfold.mean(),width=0.2,color='#dfd000')\n",
    "plt.bar(x[0]+0.3,score_loo.mean(),width=0.2,color='#0058dd')\n",
    "\n",
    "print(\"max_depth =1 --> test_accuracy:\",test_accuracy)\n",
    "print(\"max_depth =1 --> kfold.mean : \",score_kfold.mean())\n",
    "print(\"max_depth =1 --> loo.mean : \",score_loo.mean())\n",
    "\n",
    "\n",
    "# max_depth =3\n",
    "\n",
    "wine_tree=DecisionTreeClassifier(criterion='gini',max_depth=3,random_state=100)\n",
    "wine_tree.fit(x_train,y_train)\n",
    "wine_tree.predict(x_test)\n",
    "\n",
    "test_accuracy=wine_tree.score(x_test,y_test)\n",
    "score_kfold=cross_val_score(wine_tree,x_train,y_train,cv=10)\n",
    "loo=LeaveOneOut()\n",
    "score_loo=cross_val_score(wine_tree,x_train,y_train,cv=loo)\n",
    "\n",
    "plt.bar(x[1]-0.3,test_accuracy,width=0.2,color='#dd0000')\n",
    "plt.bar(x[1],score_kfold.mean(),width=0.2,color='#dfd000')\n",
    "plt.bar(x[1]+0.3,score_loo.mean(),width=0.2,color='#0058dd')\n",
    "\n",
    "print(\"max_depth =3 --> test_accuracy:\",test_accuracy)\n",
    "print(\"max_depth =3 --> kfold.mean : \",score_kfold.mean())\n",
    "print(\"max_depth =3 --> loo.mean : \",score_loo.mean())\n",
    "\n",
    "plt.title('Decision Tree - gini')\n",
    "plt.legend(['test_accuracy','k_fold','loocv'],loc='lower center')\n",
    "\n",
    "plt.xlabel('max_depth',fontsize=18)\n",
    "plt.ylabel('Accuracy',fontsize=18)\n",
    "plt.show()\n"
   ]
  },
  {
   "cell_type": "code",
   "execution_count": null,
   "metadata": {},
   "outputs": [],
   "source": []
  },
  {
   "cell_type": "code",
   "execution_count": null,
   "metadata": {},
   "outputs": [],
   "source": []
  },
  {
   "cell_type": "code",
   "execution_count": null,
   "metadata": {},
   "outputs": [],
   "source": []
  }
 ],
 "metadata": {
  "kernelspec": {
   "display_name": "Python 3",
   "language": "python",
   "name": "python3"
  },
  "language_info": {
   "codemirror_mode": {
    "name": "ipython",
    "version": 3
   },
   "file_extension": ".py",
   "mimetype": "text/x-python",
   "name": "python",
   "nbconvert_exporter": "python",
   "pygments_lexer": "ipython3",
   "version": "3.7.6"
  }
 },
 "nbformat": 4,
 "nbformat_minor": 4
}
