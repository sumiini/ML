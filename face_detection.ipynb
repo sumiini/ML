{
 "cells": [
  {
   "cell_type": "code",
   "execution_count": 22,
   "metadata": {},
   "outputs": [
    {
     "name": "stdout",
     "output_type": "stream",
     "text": [
      "\n",
      "Note: you may need to restart the kernel to use updated packages.\n"
     ]
    },
    {
     "name": "stderr",
     "output_type": "stream",
     "text": [
      "usage: conda-script.py [-h] [-V] command ...\n",
      "conda-script.py: error: unrecognized arguments: dlib\n"
     ]
    }
   ],
   "source": [
    "conda install -c conda-forge dlib"
   ]
  },
  {
   "cell_type": "code",
   "execution_count": 24,
   "metadata": {},
   "outputs": [
    {
     "name": "stdout",
     "output_type": "stream",
     "text": [
      "Number of faces detected: 1\n",
      "Detection 0: Left: 200 Top: 171 Right: 468 Bottom: 439\n",
      "68\n",
      "i는 0 402 466\n",
      "i는 1 406 538\n",
      "i는 2 420 612\n",
      "i는 3 440 682\n",
      "i는 4 468 750\n",
      "i는 5 508 810\n",
      "i는 6 558 862\n",
      "i는 7 618 902\n",
      "i는 8 684 912\n",
      "i는 9 748 902\n",
      "i는 10 808 862\n",
      "i는 11 860 810\n",
      "i는 12 900 752\n",
      "i는 13 928 684\n",
      "i는 14 946 610\n",
      "i는 15 960 536\n",
      "i는 16 968 462\n",
      "i는 17 458 410\n",
      "i는 18 498 384\n",
      "i는 19 546 382\n",
      "i는 20 592 394\n",
      "i는 21 636 414\n",
      "i는 22 732 408\n",
      "i는 23 780 388\n",
      "i는 24 830 378\n",
      "i는 25 882 384\n",
      "i는 26 922 410\n",
      "i는 27 684 478\n",
      "i는 28 684 530\n",
      "i는 29 684 582\n",
      "i는 30 684 634\n",
      "i는 31 640 670\n",
      "i는 32 662 676\n",
      "i는 33 686 682\n",
      "i는 34 710 676\n",
      "i는 35 732 670\n",
      "i는 36 508 482\n",
      "i는 37 540 464\n",
      "i는 38 578 466\n",
      "i는 39 608 496\n",
      "i는 40 574 502\n",
      "i는 41 536 498\n",
      "i는 42 766 494\n",
      "i는 43 796 462\n",
      "i는 44 834 460\n",
      "i는 45 866 478\n",
      "i는 46 838 496\n",
      "i는 47 800 500\n",
      "i는 48 606 774\n",
      "i는 49 636 746\n",
      "i는 50 666 730\n",
      "i는 51 690 738\n",
      "i는 52 716 730\n",
      "i는 53 746 744\n",
      "i는 54 776 770\n",
      "i는 55 748 802\n",
      "i는 56 718 816\n",
      "i는 57 690 818\n",
      "i는 58 664 816\n",
      "i는 59 634 804\n",
      "i는 60 620 772\n",
      "i는 61 666 762\n",
      "i는 62 690 764\n",
      "i는 63 716 762\n",
      "i는 64 764 768\n",
      "i는 65 716 772\n",
      "i는 66 690 774\n",
      "i는 67 666 772\n"
     ]
    }
   ],
   "source": [
    "import dlib\n",
    "import numpy as np\n",
    "import cv2\n",
    "\n",
    "## face detector와 landmark predictor 정의\n",
    "detector = dlib.get_frontal_face_detector()\n",
    "predictor = dlib.shape_predictor(\"shape_predictor_68_face_landmarks.dat\")\n",
    "\n",
    "# 파일에서 이미지 불러오기\n",
    "img=dlib.load_rgb_image(\"C:/Users/Hong Sumin/Desktop/3-1/hi18.jpg\")\n",
    "\n",
    "#불러온 이미지 데이터를 R과 B를 바꿔준다.\n",
    "# cvImg = swapRGB2BGR(img)    \n",
    "cvImg=cv2.cvtColor(img,cv2.COLOR_RGB2BGR)\n",
    "\n",
    "\n",
    "    \n",
    "#이미지를 두배로 키운다.\n",
    "cvImg = cv2.resize(cvImg, None, fx=2, fy=2, interpolation=cv2.INTER_AREA)\n",
    "    \n",
    "    # 얼굴 인식 두번째 변수 1은 업샘플링을 한번 하겠다는 얘기인데\n",
    "    # 업샘플링을하면 더 많이 인식할 수 있다고 한다.\n",
    "    # 다만 값이 커질수록 느리고 메모리도 많이 잡아먹는다.\n",
    "    # 그냥 1이면 될 듯. \n",
    "dets = detector(img, 1)\n",
    "\n",
    "lip_x=[]\n",
    "lip_y=[]\n",
    "# 인식된 얼굴 개수 출력 \n",
    "print(\"Number of faces detected: {}\".format(len(dets)))\n",
    "\n",
    "# 이제부터 인식된 얼굴 개수만큼 반복하여 얼굴 윤곽을 표시할 것이다. \n",
    "for k, d in enumerate(dets):\n",
    "    # k 얼굴 인덱스\n",
    "    # d 얼굴 좌표\n",
    "    print(\"Detection {}: Left: {} Top: {} Right: {} Bottom: {}\".format(\n",
    "        k, d.left(), d.top(), d.right(), d.bottom()))\n",
    "\n",
    "    # 인식된 좌표에서 랜드마크 추출 \n",
    "    shape = predictor(img, d)\n",
    "    print(shape.num_parts)\n",
    "    # num_parts(랜드마크 구조체)를 하나씩 루프를 돌린다.\n",
    "    for i in range(0, shape.num_parts):\n",
    "        # 해당 X,Y 좌표를 두배로 키워 좌표를 얻고\n",
    "        x = shape.part(i).x*2\n",
    "        y = shape.part(i).y*2\n",
    "\n",
    "        # 좌표값 출력\n",
    "        print(\"i는\",i,str(x) + \" \" + str(y))\n",
    "        if(48<=i & i<=60):\n",
    "            lip_x.append(x)\n",
    "            lip_y.append(y)\n",
    "\n",
    "        # 이미지 랜드마크 좌표 지점에 인덱스(랜드마크번호, 여기선 i)를 putText로 표시해준다.\n",
    "        cv2.putText(cvImg, str(i), (x, y), cv2.FONT_HERSHEY_SCRIPT_SIMPLEX, 0.3, (0, 255, 0))                    \n",
    "    # 랜드마크가 표시된 이미지를 openCV 윈도에 표시\n",
    "    cv2.imwrite('Face_with_landmark.png', cvImg)"
   ]
  },
  {
   "cell_type": "code",
   "execution_count": 25,
   "metadata": {},
   "outputs": [
    {
     "name": "stdout",
     "output_type": "stream",
     "text": [
      "Number of faces detected: 1\n",
      "Detection 0: Left: 200 Top: 171 Right: 468 Bottom: 439\n",
      "68\n",
      "i는 0 402 466\n",
      "i는 1 406 538\n",
      "i는 2 420 612\n",
      "i는 3 440 682\n",
      "i는 4 468 750\n",
      "i는 5 508 810\n",
      "i는 6 558 862\n",
      "i는 7 618 902\n",
      "i는 8 684 912\n",
      "i는 9 748 902\n",
      "i는 10 808 862\n",
      "i는 11 860 810\n",
      "i는 12 900 752\n",
      "i는 13 928 684\n",
      "i는 14 946 610\n",
      "i는 15 960 536\n",
      "i는 16 968 462\n",
      "i는 17 458 410\n",
      "i는 18 498 384\n",
      "i는 19 546 382\n",
      "i는 20 592 394\n",
      "i는 21 636 414\n",
      "i는 22 732 408\n",
      "i는 23 780 388\n",
      "i는 24 830 378\n",
      "i는 25 882 384\n",
      "i는 26 922 410\n",
      "i는 27 684 478\n",
      "i는 28 684 530\n",
      "i는 29 684 582\n",
      "i는 30 684 634\n",
      "i는 31 640 670\n",
      "i는 32 662 676\n",
      "i는 33 686 682\n",
      "i는 34 710 676\n",
      "i는 35 732 670\n",
      "i는 36 508 482\n",
      "i는 37 540 464\n",
      "i는 38 578 466\n",
      "i는 39 608 496\n",
      "i는 40 574 502\n",
      "i는 41 536 498\n",
      "i는 42 766 494\n",
      "i는 43 796 462\n",
      "i는 44 834 460\n",
      "i는 45 866 478\n",
      "i는 46 838 496\n",
      "i는 47 800 500\n",
      "i는 48 606 774\n",
      "i는 49 636 746\n",
      "i는 50 666 730\n",
      "i는 51 690 738\n",
      "i는 52 716 730\n",
      "i는 53 746 744\n",
      "i는 54 776 770\n",
      "i는 55 748 802\n",
      "i는 56 718 816\n",
      "i는 57 690 818\n",
      "i는 58 664 816\n",
      "i는 59 634 804\n",
      "i는 60 620 772\n",
      "i는 61 666 762\n",
      "i는 62 690 764\n",
      "i는 63 716 762\n",
      "i는 64 764 768\n",
      "i는 65 716 772\n",
      "i는 66 690 774\n",
      "i는 67 666 772\n"
     ]
    }
   ],
   "source": [
    "import dlib\n",
    "import numpy as np\n",
    "import cv2\n",
    "\n",
    "## face detector와 landmark predictor 정의\n",
    "detector = dlib.get_frontal_face_detector()\n",
    "predictor = dlib.shape_predictor(\"shape_predictor_68_face_landmarks.dat\")\n",
    "\n",
    "# 파일에서 이미지 불러오기\n",
    "img=dlib.load_rgb_image(\"C:/Users/Hong Sumin/Desktop/3-1/hi18.jpg\")\n",
    "\n",
    "#불러온 이미지 데이터를 R과 B를 바꿔준다.\n",
    "# cvImg = swapRGB2BGR(img)    \n",
    "cvImg=cv2.cvtColor(img,cv2.COLOR_RGB2BGR)\n",
    "\n",
    "\n",
    "    \n",
    "#이미지를 두배로 키운다.\n",
    "cvImg = cv2.resize(cvImg, None, fx=2, fy=2, interpolation=cv2.INTER_AREA)\n",
    "    \n",
    "    # 얼굴 인식 두번째 변수 1은 업샘플링을 한번 하겠다는 얘기인데\n",
    "    # 업샘플링을하면 더 많이 인식할 수 있다고 한다.\n",
    "    # 다만 값이 커질수록 느리고 메모리도 많이 잡아먹는다.\n",
    "    # 그냥 1이면 될 듯. \n",
    "dets = detector(img, 1)\n",
    "\n",
    "lip_x=[]\n",
    "lip_y=[]\n",
    "# 인식된 얼굴 개수 출력 \n",
    "print(\"Number of faces detected: {}\".format(len(dets)))\n",
    "\n",
    "# 이제부터 인식된 얼굴 개수만큼 반복하여 얼굴 윤곽을 표시할 것이다. \n",
    "for k, d in enumerate(dets):\n",
    "    # k 얼굴 인덱스\n",
    "    # d 얼굴 좌표\n",
    "    print(\"Detection {}: Left: {} Top: {} Right: {} Bottom: {}\".format(\n",
    "        k, d.left(), d.top(), d.right(), d.bottom()))\n",
    "\n",
    "    # 인식된 좌표에서 랜드마크 추출 \n",
    "    shape = predictor(img, d)\n",
    "    print(shape.num_parts)\n",
    "    # num_parts(랜드마크 구조체)를 하나씩 루프를 돌린다.\n",
    "    for i in range(0, shape.num_parts):\n",
    "        # 해당 X,Y 좌표를 두배로 키워 좌표를 얻고\n",
    "        x = shape.part(i).x*2\n",
    "        y = shape.part(i).y*2\n",
    "\n",
    "        # 좌표값 출력\n",
    "        print(\"i는\",i,str(x) + \" \" + str(y))\n",
    "        if(48<=i & i<=60):\n",
    "            lip_x.append(x)\n",
    "            lip_y.append(y)\n",
    "\n",
    "        # 이미지 랜드마크 좌표 지점에 인덱스(랜드마크번호, 여기선 i)를 putText로 표시해준다.\n",
    "#         cv2.putText(cvImg, str(i), (x, y), cv2.FONT_HERSHEY_SCRIPT_SIMPLEX, 0.3, (0, 255, 0))                    \n",
    "    # 랜드마크가 표시된 이미지를 openCV 윈도에 표시\n",
    "    cv2.imwrite('Face.png', cvImg)"
   ]
  },
  {
   "cell_type": "code",
   "execution_count": 26,
   "metadata": {},
   "outputs": [],
   "source": [
    "# 48-60이 입술"
   ]
  },
  {
   "cell_type": "code",
   "execution_count": 27,
   "metadata": {},
   "outputs": [
    {
     "data": {
      "text/plain": [
       "[606, 636, 666, 690, 716, 746, 776, 748, 718, 690, 664, 634, 620]"
      ]
     },
     "execution_count": 27,
     "metadata": {},
     "output_type": "execute_result"
    }
   ],
   "source": [
    "# 입술 x 좌표\n",
    "lip_x"
   ]
  },
  {
   "cell_type": "code",
   "execution_count": 28,
   "metadata": {},
   "outputs": [
    {
     "data": {
      "text/plain": [
       "[774, 746, 730, 738, 730, 744, 770, 802, 816, 818, 816, 804, 772]"
      ]
     },
     "execution_count": 28,
     "metadata": {},
     "output_type": "execute_result"
    }
   ],
   "source": [
    "# 입술 y 좌표\n",
    "lip_y"
   ]
  },
  {
   "cell_type": "code",
   "execution_count": 29,
   "metadata": {},
   "outputs": [
    {
     "data": {
      "text/plain": [
       "True"
      ]
     },
     "execution_count": 29,
     "metadata": {},
     "output_type": "execute_result"
    }
   ],
   "source": [
    "# 확대된 이미지 가져옴\n",
    "src = cv2.imread(\"Face.png\", cv2.IMREAD_COLOR)\n",
    "dst=src.copy()\n",
    "# dst=src[min(lip_x):max(lip_x),min(lip_y):max(lip_y)]\n",
    "dst=src[min(lip_y):max(lip_y),min(lip_x):max(lip_x)]\n",
    "# 입술만 따로 저장\n",
    "cv2.imwrite('lip.png', dst)"
   ]
  },
  {
   "cell_type": "code",
   "execution_count": null,
   "metadata": {},
   "outputs": [],
   "source": []
  }
 ],
 "metadata": {
  "kernelspec": {
   "display_name": "Python 3",
   "language": "python",
   "name": "python3"
  },
  "language_info": {
   "codemirror_mode": {
    "name": "ipython",
    "version": 3
   },
   "file_extension": ".py",
   "mimetype": "text/x-python",
   "name": "python",
   "nbconvert_exporter": "python",
   "pygments_lexer": "ipython3",
   "version": "3.7.6"
  }
 },
 "nbformat": 4,
 "nbformat_minor": 4
}
